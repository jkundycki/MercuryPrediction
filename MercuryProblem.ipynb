{
 "cells": [
  {
   "cell_type": "code",
   "execution_count": 1,
   "metadata": {},
   "outputs": [],
   "source": [
    "with open('input000.txt', 'r') as f:\n",
    "    content = f.readlines()"
   ]
  },
  {
   "cell_type": "code",
   "execution_count": 2,
   "metadata": {},
   "outputs": [
    {
     "data": {
      "text/plain": [
       "'250\\n'"
      ]
     },
     "execution_count": 2,
     "metadata": {},
     "output_type": "execute_result"
    }
   ],
   "source": [
    "content.pop(0)"
   ]
  },
  {
   "cell_type": "code",
   "execution_count": 178,
   "metadata": {},
   "outputs": [
    {
     "data": {
      "text/plain": [
       "['1/3/2012 16:00:00\\t26.96\\n',\n",
       " '1/4/2012 16:00:00\\t27.47\\n',\n",
       " '1/5/2012 16:00:00\\t27.728\\n',\n",
       " '1/6/2012 16:00:00\\t28.19\\n',\n",
       " '1/9/2012 16:00:00\\t28.1\\n',\n",
       " '1/10/2012 16:00:00\\t28.15\\n',\n",
       " '1/11/2012 16:00:00\\t27.98\\n',\n",
       " '1/12/2012 16:00:00\\t28.02\\n',\n",
       " '1/13/2012 16:00:00\\t28.25\\n',\n",
       " '1/17/2012 16:00:00\\t28.65\\n',\n",
       " '1/18/2012 16:00:00\\t28.4\\n',\n",
       " '1/19/2012 16:00:00\\t28.435\\n',\n",
       " '1/20/2012 16:00:00\\t29.74\\n',\n",
       " '1/23/2012 16:00:00\\t29.95\\n',\n",
       " '1/24/2012 16:00:00\\t29.5703\\n',\n",
       " '1/25/2012 16:00:00\\t29.65\\n',\n",
       " '1/26/2012 16:00:00\\t29.7\\n',\n",
       " '1/27/2012 16:00:00\\t29.53\\n',\n",
       " '1/30/2012 16:00:00\\t29.62\\n',\n",
       " '1/31/2012 16:00:00\\t29.7\\n',\n",
       " '2/1/2012 16:00:00\\t30.05\\n',\n",
       " '2/2/2012 16:00:00\\t30.17\\n',\n",
       " '2/3/2012 16:00:00\\t30.4\\n',\n",
       " '2/6/2012 16:00:00\\t30.22\\n',\n",
       " '2/7/2012 16:00:00\\t30.485\\n',\n",
       " '2/8/2012 16:00:00\\t30.67\\n',\n",
       " '2/9/2012 16:00:00\\t30.8\\n',\n",
       " '2/10/2012 16:00:00\\t30.8\\n',\n",
       " '2/13/2012 16:00:00\\t30.77\\n',\n",
       " '2/14/2012 16:00:00\\t30.46\\n',\n",
       " '2/15/2012 16:00:00\\t30.39\\n',\n",
       " '2/16/2012 16:00:00\\t31.55\\n',\n",
       " '2/17/2012 16:00:00\\t31.32\\n',\n",
       " '2/21/2012 16:00:00\\t31.61\\n',\n",
       " '2/22/2012 16:00:00\\t31.68\\n',\n",
       " '2/23/2012 16:00:00\\t31.59\\n',\n",
       " '2/24/2012 16:00:00\\t31.5\\n',\n",
       " '2/27/2012 16:00:00\\t31.5\\n',\n",
       " '2/28/2012 16:00:00\\t31.93\\n',\n",
       " '2/29/2012 16:00:00\\t32\\n',\n",
       " '3/1/2012 16:00:00\\t32.39\\n',\n",
       " '3/2/2012 16:00:00\\t32.44\\n',\n",
       " '3/5/2012 16:00:00\\t32.05\\n',\n",
       " '3/6/2012 16:00:00\\t31.98\\n',\n",
       " '3/7/2012 16:00:00\\t31.92\\n',\n",
       " '3/8/2012 16:00:00\\t32.21\\n',\n",
       " '3/9/2012 16:00:00\\t32.16\\n',\n",
       " '3/12/2012 16:00:00\\t32.2\\n',\n",
       " '3/13/2012 16:00:00\\tMissing_1\\n',\n",
       " '3/14/2012 16:00:00\\t32.88\\n',\n",
       " '3/15/2012 16:00:00\\t32.94\\n',\n",
       " '3/16/2012 16:00:00\\t32.95\\n',\n",
       " '3/19/2012 16:00:00\\t32.61\\n',\n",
       " '3/20/2012 16:00:00\\t32.15\\n',\n",
       " '3/21/2012 16:00:00\\tMissing_2\\n',\n",
       " '3/22/2012 16:00:00\\t32.09\\n',\n",
       " '3/23/2012 16:00:00\\t32.11\\n',\n",
       " '3/26/2012 16:00:00\\tMissing_3\\n',\n",
       " '3/27/2012 16:00:00\\t32.7\\n',\n",
       " '3/28/2012 16:00:00\\t32.7\\n',\n",
       " '3/29/2012 16:00:00\\t32.19\\n',\n",
       " '3/30/2012 16:00:00\\t32.41\\n',\n",
       " '4/2/2012 16:00:00\\t32.46\\n',\n",
       " '4/3/2012 16:00:00\\t32.19\\n',\n",
       " '4/4/2012 16:00:00\\t31.69\\n',\n",
       " '4/5/2012 16:00:00\\t31.63\\n',\n",
       " '4/9/2012 16:00:00\\t31.4\\n',\n",
       " '4/10/2012 16:00:00\\t31.19\\n',\n",
       " '4/11/2012 16:00:00\\t30.53\\n',\n",
       " '4/12/2012 16:00:00\\t31.04\\n',\n",
       " '4/13/2012 16:00:00\\t31.16\\n',\n",
       " '4/16/2012 16:00:00\\t31.19\\n',\n",
       " '4/17/2012 16:00:00\\t31.61\\n',\n",
       " '4/18/2012 16:00:00\\t31.31\\n',\n",
       " '4/19/2012 16:00:00\\t31.68\\n',\n",
       " '4/20/2012 16:00:00\\t32.89\\n',\n",
       " '4/23/2012 16:00:00\\t32.5\\n',\n",
       " '4/24/2012 16:00:00\\t32.52\\n',\n",
       " '4/25/2012 16:00:00\\t32.32\\n',\n",
       " '4/26/2012 16:00:00\\t32.23\\n',\n",
       " '4/27/2012 16:00:00\\t32.22\\n',\n",
       " '4/30/2012 16:00:00\\t32.11\\n',\n",
       " '5/1/2012 16:00:00\\t32.335\\n',\n",
       " '5/2/2012 16:00:00\\t31.925\\n',\n",
       " '5/3/2012 16:00:00\\t31.9\\n',\n",
       " '5/4/2012 16:00:00\\t31.57\\n',\n",
       " '5/7/2012 16:00:00\\t30.86\\n',\n",
       " '5/8/2012 16:00:00\\t30.78\\n',\n",
       " '5/9/2012 16:00:00\\t30.83\\n',\n",
       " '5/10/2012 16:00:00\\t31.02\\n',\n",
       " '5/11/2012 16:00:00\\t31.54\\n',\n",
       " '5/14/2012 16:00:00\\t31.04\\n',\n",
       " '5/15/2012 16:00:00\\t30.795\\n',\n",
       " '5/16/2012 16:00:00\\t30.32\\n',\n",
       " '5/17/2012 16:00:00\\t30.2084\\n',\n",
       " '5/18/2012 16:00:00\\t29.81\\n',\n",
       " '5/21/2012 16:00:00\\t29.79\\n',\n",
       " '5/22/2012 16:00:00\\t29.88\\n',\n",
       " '5/23/2012 16:00:00\\t29.4\\n',\n",
       " '5/24/2012 16:00:00\\tMissing_4\\n',\n",
       " '5/25/2012 16:00:00\\t29.36\\n',\n",
       " '5/29/2012 16:00:00\\t29.72\\n',\n",
       " '5/30/2012 16:00:00\\t29.479\\n',\n",
       " '5/31/2012 16:00:00\\t29.42\\n',\n",
       " '6/1/2012 16:00:00\\tMissing_5\\n',\n",
       " '6/4/2012 16:00:00\\tMissing_6\\n',\n",
       " '6/5/2012 16:00:00\\t28.75\\n',\n",
       " '6/6/2012 16:00:00\\t29.37\\n',\n",
       " '6/7/2012 16:00:00\\t29.7\\n',\n",
       " '6/8/2012 16:00:00\\t29.68\\n',\n",
       " '6/11/2012 16:00:00\\t29.81\\n',\n",
       " '6/12/2012 16:00:00\\t29.3\\n',\n",
       " '6/13/2012 16:00:00\\t29.44\\n',\n",
       " '6/14/2012 16:00:00\\t29.46\\n',\n",
       " '6/15/2012 16:00:00\\t30.08\\n',\n",
       " '6/18/2012 16:00:00\\t30.03\\n',\n",
       " '6/19/2012 16:00:00\\t31.11\\n',\n",
       " '6/20/2012 16:00:00\\t31.05\\n',\n",
       " '6/21/2012 16:00:00\\t31.14\\n',\n",
       " '6/22/2012 16:00:00\\t30.73\\n',\n",
       " '6/25/2012 16:00:00\\t30.32\\n',\n",
       " '6/26/2012 16:00:00\\t30.27\\n',\n",
       " '6/27/2012 16:00:00\\t30.5\\n',\n",
       " '6/28/2012 16:00:00\\t30.05\\n',\n",
       " '6/29/2012 16:00:00\\t30.69\\n',\n",
       " '7/2/2012 16:00:00\\t30.62\\n',\n",
       " '7/3/2012 16:00:00\\t30.76\\n',\n",
       " '7/5/2012 16:00:00\\t30.78\\n',\n",
       " '7/6/2012 16:00:00\\t30.7\\n',\n",
       " '7/9/2012 16:00:00\\t30.23\\n',\n",
       " '7/10/2012 16:00:00\\t30.22\\n',\n",
       " '7/11/2012 16:00:00\\t29.735\\n',\n",
       " '7/12/2012 16:00:00\\t29.18\\n',\n",
       " '7/13/2012 16:00:00\\t29.48\\n',\n",
       " '7/16/2012 16:00:00\\t29.53\\n',\n",
       " '7/17/2012 16:00:00\\t29.86\\n',\n",
       " '7/18/2012 16:00:00\\t30.45\\n',\n",
       " '7/19/2012 16:00:00\\t30.8\\n',\n",
       " '7/20/2012 16:00:00\\tMissing_7\\n',\n",
       " '7/23/2012 16:00:00\\tMissing_8\\n',\n",
       " '7/24/2012 16:00:00\\t29.36\\n',\n",
       " '7/25/2012 16:00:00\\t29.33\\n',\n",
       " '7/26/2012 16:00:00\\tMissing_9\\n',\n",
       " '7/27/2012 16:00:00\\t29.85\\n',\n",
       " '7/30/2012 16:00:00\\t29.82\\n',\n",
       " '7/31/2012 16:00:00\\t29.71\\n',\n",
       " '8/1/2012 16:00:00\\t29.65\\n',\n",
       " '8/2/2012 16:00:00\\t29.525\\n',\n",
       " '8/3/2012 16:00:00\\t29.94\\n',\n",
       " '8/6/2012 16:00:00\\t30.11\\n',\n",
       " '8/7/2012 16:00:00\\t30.35\\n',\n",
       " '8/8/2012 16:00:00\\t30.47\\n',\n",
       " '8/9/2012 16:00:00\\t30.65\\n',\n",
       " '8/10/2012 16:00:00\\t30.62\\n',\n",
       " '8/13/2012 16:00:00\\t30.46\\n',\n",
       " '8/14/2012 16:00:00\\t30.39\\n',\n",
       " '8/15/2012 16:00:00\\t30.28\\n',\n",
       " '8/16/2012 16:00:00\\t30.94\\n',\n",
       " '8/17/2012 16:00:00\\t30.92\\n',\n",
       " '8/20/2012 16:00:00\\t30.85\\n',\n",
       " '8/21/2012 16:00:00\\t30.96\\n',\n",
       " '8/22/2012 16:00:00\\t30.76\\n',\n",
       " '8/23/2012 16:00:00\\t30.4\\n',\n",
       " '8/24/2012 16:00:00\\t30.63\\n',\n",
       " '8/27/2012 16:00:00\\t30.96\\n',\n",
       " '8/28/2012 16:00:00\\t30.8\\n',\n",
       " '8/29/2012 16:00:00\\t30.75\\n',\n",
       " '8/30/2012 16:00:00\\t30.61\\n',\n",
       " '8/31/2012 16:00:00\\t30.96\\n',\n",
       " '9/4/2012 16:00:00\\t30.66\\n',\n",
       " '9/5/2012 16:00:00\\t30.53\\n',\n",
       " '9/6/2012 16:00:00\\t31.36\\n',\n",
       " '9/7/2012 16:00:00\\t31.07\\n',\n",
       " '9/10/2012 16:00:00\\tMissing_10\\n',\n",
       " '9/11/2012 16:00:00\\t30.91\\n',\n",
       " '9/12/2012 16:00:00\\t31.18\\n',\n",
       " '9/13/2012 16:00:00\\t31.18\\n',\n",
       " '9/14/2012 16:00:00\\t31.25\\n',\n",
       " '9/17/2012 16:00:00\\tMissing_11\\n',\n",
       " '9/18/2012 16:00:00\\t31.21\\n',\n",
       " '9/19/2012 16:00:00\\t31.19\\n',\n",
       " '9/20/2012 16:00:00\\tMissing_12\\n',\n",
       " '9/21/2012 16:00:00\\t31.61\\n',\n",
       " '9/24/2012 16:00:00\\t31.07\\n',\n",
       " '9/25/2012 16:00:00\\t31\\n',\n",
       " '9/26/2012 16:00:00\\t30.6\\n',\n",
       " '9/27/2012 16:00:00\\t30.4\\n',\n",
       " '9/28/2012 16:00:00\\t30.26\\n',\n",
       " '10/1/2012 16:00:00\\t29.98\\n',\n",
       " '10/2/2012 16:00:00\\t29.89\\n',\n",
       " '10/3/2012 16:00:00\\t29.99\\n',\n",
       " '10/4/2012 16:00:00\\t30.03\\n',\n",
       " '10/5/2012 16:00:00\\t30.25\\n',\n",
       " '10/8/2012 16:00:00\\t29.92\\n',\n",
       " '10/9/2012 16:00:00\\tMissing_13\\n',\n",
       " '10/10/2012 16:00:00\\tMissing_14\\n',\n",
       " '10/11/2012 16:00:00\\t29.25\\n',\n",
       " '10/12/2012 16:00:00\\t29.32\\n',\n",
       " '10/15/2012 16:00:00\\tMissing_15\\n',\n",
       " '10/16/2012 16:00:00\\t29.74\\n',\n",
       " '10/17/2012 16:00:00\\t29.64\\n',\n",
       " '10/18/2012 16:00:00\\t29.73\\n',\n",
       " '10/19/2012 16:00:00\\t29.08\\n',\n",
       " '10/22/2012 16:00:00\\t28.83\\n',\n",
       " '10/23/2012 16:00:00\\t28.2\\n',\n",
       " '10/24/2012 16:00:00\\t28.2\\n',\n",
       " '10/25/2012 16:00:00\\t28.2\\n',\n",
       " '10/26/2012 16:00:00\\t28.34\\n',\n",
       " '10/31/2012 16:00:00\\tMissing_16\\n',\n",
       " '11/1/2012 16:00:00\\t29.56\\n',\n",
       " '11/2/2012 16:00:00\\t29.77\\n',\n",
       " '11/5/2012 16:00:00\\t29.74\\n',\n",
       " '11/6/2012 16:00:00\\tMissing_17\\n',\n",
       " '11/7/2012 16:00:00\\t29.825\\n',\n",
       " '11/8/2012 16:00:00\\t29.37\\n',\n",
       " '11/9/2012 16:00:00\\t29.19\\n',\n",
       " '11/12/2012 16:00:00\\t29.01\\n',\n",
       " '11/13/2012 16:00:00\\tMissing_18\\n',\n",
       " '11/14/2012 16:00:00\\t27.29\\n',\n",
       " '11/15/2012 16:00:00\\t26.97\\n',\n",
       " '11/16/2012 16:00:00\\tMissing_19\\n',\n",
       " '11/19/2012 16:00:00\\t26.8\\n',\n",
       " '11/20/2012 16:00:00\\t26.8\\n',\n",
       " '11/21/2012 16:00:00\\t27.1666\\n',\n",
       " '11/23/2012 13:00:00\\t27.77\\n',\n",
       " '11/26/2012 16:00:00\\t27.58\\n',\n",
       " '11/27/2012 16:00:00\\t27.38\\n',\n",
       " '11/28/2012 16:00:00\\t27.39\\n',\n",
       " '11/29/2012 16:00:00\\t27.36\\n',\n",
       " '11/30/2012 16:00:00\\t27.13\\n',\n",
       " '12/3/2012 16:00:00\\t26.82\\n',\n",
       " '12/4/2012 16:00:00\\t26.63\\n',\n",
       " '12/5/2012 16:00:00\\t26.93\\n',\n",
       " '12/6/2012 16:00:00\\t26.98\\n',\n",
       " '12/7/2012 16:00:00\\t26.82\\n',\n",
       " '12/10/2012 16:00:00\\t26.97\\n',\n",
       " '12/11/2012 16:00:00\\t27.49\\n',\n",
       " '12/12/2012 16:00:00\\t27.62\\n',\n",
       " '12/13/2012 16:00:00\\tMissing_20\\n',\n",
       " '12/14/2012 16:00:00\\t27.13\\n',\n",
       " '12/17/2012 16:00:00\\t27.215\\n',\n",
       " '12/18/2012 16:00:00\\t27.63\\n',\n",
       " '12/19/2012 16:00:00\\t27.73\\n',\n",
       " '12/20/2012 16:00:00\\t27.68\\n',\n",
       " '12/21/2012 16:00:00\\t27.49\\n',\n",
       " '12/24/2012 13:00:00\\t27.25\\n',\n",
       " '12/26/2012 16:00:00\\t27.2\\n',\n",
       " '12/27/2012 16:00:00\\t27.09\\n',\n",
       " '12/28/2012 16:00:00\\t26.9\\n',\n",
       " '12/31/2012 16:00:00\\t26.77']"
      ]
     },
     "execution_count": 178,
     "metadata": {},
     "output_type": "execute_result"
    }
   ],
   "source": [
    "content"
   ]
  },
  {
   "cell_type": "code",
   "execution_count": 3,
   "metadata": {},
   "outputs": [],
   "source": [
    "#Import\n",
    "from datetime import datetime\n",
    "from dateutil.parser import parse\n",
    "from sklearn.pipeline import Pipeline\n",
    "from sklearn.preprocessing import Imputer\n",
    "from sklearn.linear_model import LogisticRegression, LinearRegression, SGDRegressor\n",
    "from sklearn.ensemble import RandomForestRegressor, ExtraTreesRegressor\n",
    "from sklearn.model_selection import train_test_split\n",
    "from sklearn.model_selection import GridSearchCV\n",
    "from sklearn.model_selection import RandomizedSearchCV\n",
    "from sklearn.ensemble import RandomForestClassifier\n",
    "from sklearn import preprocessing\n",
    "import xgboost as xgb\n",
    "from sklearn import utils\n",
    "import pandas as pd\n",
    "import numpy as np"
   ]
  },
  {
   "cell_type": "code",
   "execution_count": 55,
   "metadata": {},
   "outputs": [],
   "source": [
    "merc = []\n",
    "time = []\n",
    "\n",
    "for reading in content:\n",
    "    float_days = datetime.strptime(reading.split(\"\\t\")[0], '%m/%d/%Y %H:%M:%S')\n",
    "    time.append(float_days)\n",
    "    try:\n",
    "        merc.append(float(reading.split(\"\\t\")[1]))\n",
    "    except:\n",
    "        merc.append(np.nan)\n",
    "        pass"
   ]
  },
  {
   "cell_type": "code",
   "execution_count": 56,
   "metadata": {},
   "outputs": [
    {
     "data": {
      "text/plain": [
       "Date\n",
       "2012-01-03 16:00:00    26.960\n",
       "2012-01-04 16:00:00    27.470\n",
       "2012-01-05 16:00:00    27.728\n",
       "2012-01-06 16:00:00    28.190\n",
       "2012-01-09 16:00:00    28.100\n",
       "dtype: float64"
      ]
     },
     "execution_count": 56,
     "metadata": {},
     "output_type": "execute_result"
    }
   ],
   "source": [
    "df = pd.Series(merc, index=time)\n",
    "df.index.name = 'Date'\n",
    "df.head()"
   ]
  },
  {
   "cell_type": "code",
   "execution_count": 50,
   "metadata": {},
   "outputs": [
    {
     "data": {
      "text/html": [
       "<div>\n",
       "<style scoped>\n",
       "    .dataframe tbody tr th:only-of-type {\n",
       "        vertical-align: middle;\n",
       "    }\n",
       "\n",
       "    .dataframe tbody tr th {\n",
       "        vertical-align: top;\n",
       "    }\n",
       "\n",
       "    .dataframe thead th {\n",
       "        text-align: right;\n",
       "    }\n",
       "</style>\n",
       "<table border=\"1\" class=\"dataframe\">\n",
       "  <thead>\n",
       "    <tr style=\"text-align: right;\">\n",
       "      <th></th>\n",
       "      <th>Date</th>\n",
       "      <th>Reading</th>\n",
       "    </tr>\n",
       "  </thead>\n",
       "  <tbody>\n",
       "    <tr>\n",
       "      <td>0</td>\n",
       "      <td>2012-01-03 16:00:00</td>\n",
       "      <td>26.960</td>\n",
       "    </tr>\n",
       "    <tr>\n",
       "      <td>1</td>\n",
       "      <td>2012-01-04 16:00:00</td>\n",
       "      <td>27.470</td>\n",
       "    </tr>\n",
       "    <tr>\n",
       "      <td>2</td>\n",
       "      <td>2012-01-05 16:00:00</td>\n",
       "      <td>27.728</td>\n",
       "    </tr>\n",
       "    <tr>\n",
       "      <td>3</td>\n",
       "      <td>2012-01-06 16:00:00</td>\n",
       "      <td>28.190</td>\n",
       "    </tr>\n",
       "    <tr>\n",
       "      <td>4</td>\n",
       "      <td>2012-01-09 16:00:00</td>\n",
       "      <td>28.100</td>\n",
       "    </tr>\n",
       "  </tbody>\n",
       "</table>\n",
       "</div>"
      ],
      "text/plain": [
       "                 Date  Reading\n",
       "0 2012-01-03 16:00:00   26.960\n",
       "1 2012-01-04 16:00:00   27.470\n",
       "2 2012-01-05 16:00:00   27.728\n",
       "3 2012-01-06 16:00:00   28.190\n",
       "4 2012-01-09 16:00:00   28.100"
      ]
     },
     "execution_count": 50,
     "metadata": {},
     "output_type": "execute_result"
    }
   ],
   "source": [
    "df = df.reset_index(name='Reading')\n",
    "df.head()"
   ]
  },
  {
   "cell_type": "code",
   "execution_count": 7,
   "metadata": {},
   "outputs": [
    {
     "data": {
      "text/plain": [
       "array([[15412],\n",
       "       [15420],\n",
       "       [15425],\n",
       "       [15484],\n",
       "       [15492],\n",
       "       [15495],\n",
       "       [15541],\n",
       "       [15544],\n",
       "       [15547],\n",
       "       [15593],\n",
       "       [15600],\n",
       "       [15603],\n",
       "       [15622],\n",
       "       [15623],\n",
       "       [15628],\n",
       "       [15644],\n",
       "       [15650],\n",
       "       [15657],\n",
       "       [15660],\n",
       "       [15687]])"
      ]
     },
     "execution_count": 7,
     "metadata": {},
     "output_type": "execute_result"
    }
   ],
   "source": [
    "missing_reading = df[df['Reading'].isnull()]['Date'].values\n",
    "missing_reading = missing_reading.astype('datetime64[D]').astype(int)\n",
    "missing_reading = [[x] for x in missing_reading]\n",
    "missing_reading = np.asarray(missing_reading)\n",
    "missing_reading"
   ]
  },
  {
   "cell_type": "code",
   "execution_count": 8,
   "metadata": {},
   "outputs": [],
   "source": [
    "df = df.dropna()\n",
    "dates, reads = [[x] for x in df['Date'].values], df['Reading'].values"
   ]
  },
  {
   "cell_type": "code",
   "execution_count": 9,
   "metadata": {},
   "outputs": [],
   "source": [
    "X_train, X_test, y_train, y_test = train_test_split(dates, reads, test_size=0.05, shuffle=False)\n",
    "X_train, y_train = np.asarray(X_train), np.asarray(y_train)"
   ]
  },
  {
   "cell_type": "code",
   "execution_count": 10,
   "metadata": {},
   "outputs": [
    {
     "data": {
      "text/plain": [
       "RandomForestRegressor(bootstrap=True, criterion='mse', max_depth=500,\n",
       "                      max_features='auto', max_leaf_nodes=None,\n",
       "                      min_impurity_decrease=0.0, min_impurity_split=None,\n",
       "                      min_samples_leaf=1, min_samples_split=2,\n",
       "                      min_weight_fraction_leaf=0.0, n_estimators=1000,\n",
       "                      n_jobs=None, oob_score=False, random_state=0, verbose=0,\n",
       "                      warm_start=False)"
      ]
     },
     "execution_count": 10,
     "metadata": {},
     "output_type": "execute_result"
    }
   ],
   "source": [
    "mdl = RandomForestRegressor(n_estimators=1000, max_depth=500, random_state=0)\n",
    "mdl.fit(X_train, y_train)"
   ]
  },
  {
   "cell_type": "code",
   "execution_count": 11,
   "metadata": {},
   "outputs": [
    {
     "name": "stdout",
     "output_type": "stream",
     "text": [
      "27.202471999999617\n",
      "27.202471999999617\n",
      "27.202471999999617\n",
      "27.202471999999617\n",
      "27.202471999999617\n",
      "27.202471999999617\n",
      "27.202471999999617\n",
      "27.202471999999617\n",
      "27.202471999999617\n",
      "27.202471999999617\n",
      "27.202471999999617\n",
      "27.202471999999617\n",
      "27.202471999999617\n",
      "27.202471999999617\n",
      "27.202471999999617\n",
      "27.202471999999617\n",
      "27.202471999999617\n",
      "27.202471999999617\n",
      "27.202471999999617\n",
      "27.202471999999617\n"
     ]
    }
   ],
   "source": [
    "y_pred = mdl.predict(missing_reading)\n",
    "for pred in y_pred:\n",
    "    print(pred)"
   ]
  },
  {
   "cell_type": "markdown",
   "metadata": {},
   "source": [
    "## Machine Learning"
   ]
  },
  {
   "cell_type": "code",
   "execution_count": 12,
   "metadata": {},
   "outputs": [],
   "source": [
    "target = df['Reading'].values.astype(int)"
   ]
  },
  {
   "cell_type": "code",
   "execution_count": 13,
   "metadata": {},
   "outputs": [],
   "source": [
    "dates1 = df['Date'].values\n",
    "dates1 = dates1.astype('datetime64[D]').astype(int)\n",
    "dates1 = [[x] for x in dates1]\n",
    "dates1 = np.array(dates1)"
   ]
  },
  {
   "cell_type": "code",
   "execution_count": 14,
   "metadata": {},
   "outputs": [],
   "source": [
    "X_train, X_test, y_train, y_test = train_test_split(dates1, target, test_size=0.2)"
   ]
  },
  {
   "cell_type": "markdown",
   "metadata": {},
   "source": [
    "### XGBoost"
   ]
  },
  {
   "cell_type": "code",
   "execution_count": 15,
   "metadata": {},
   "outputs": [],
   "source": [
    "#Instantiate the Classifier\n",
    "xgboost = xgb.XGBClassifier()"
   ]
  },
  {
   "cell_type": "code",
   "execution_count": 16,
   "metadata": {},
   "outputs": [
    {
     "ename": "KeyboardInterrupt",
     "evalue": "",
     "output_type": "error",
     "traceback": [
      "\u001b[1;31m---------------------------------------------------------------------------\u001b[0m",
      "\u001b[1;31mKeyboardInterrupt\u001b[0m                         Traceback (most recent call last)",
      "\u001b[1;32m<ipython-input-16-b36d0f0df1b6>\u001b[0m in \u001b[0;36m<module>\u001b[1;34m\u001b[0m\n\u001b[0;32m      8\u001b[0m \u001b[0mxg_search\u001b[0m \u001b[1;33m=\u001b[0m \u001b[0mGridSearchCV\u001b[0m\u001b[1;33m(\u001b[0m\u001b[0mxgboost\u001b[0m\u001b[1;33m,\u001b[0m \u001b[0mxg_param_grid\u001b[0m\u001b[1;33m,\u001b[0m \u001b[0mscoring\u001b[0m\u001b[1;33m=\u001b[0m\u001b[1;34m'accuracy'\u001b[0m\u001b[1;33m,\u001b[0m \u001b[0mcv\u001b[0m\u001b[1;33m=\u001b[0m\u001b[1;36m3\u001b[0m\u001b[1;33m)\u001b[0m\u001b[1;33m\u001b[0m\u001b[1;33m\u001b[0m\u001b[0m\n\u001b[0;32m      9\u001b[0m \u001b[1;33m\u001b[0m\u001b[0m\n\u001b[1;32m---> 10\u001b[1;33m \u001b[0mxg_search\u001b[0m\u001b[1;33m.\u001b[0m\u001b[0mfit\u001b[0m\u001b[1;33m(\u001b[0m\u001b[0mX_train\u001b[0m\u001b[1;33m,\u001b[0m \u001b[0my_train\u001b[0m\u001b[1;33m)\u001b[0m\u001b[1;33m\u001b[0m\u001b[1;33m\u001b[0m\u001b[0m\n\u001b[0m\u001b[0;32m     11\u001b[0m \u001b[1;33m\u001b[0m\u001b[0m\n\u001b[0;32m     12\u001b[0m \u001b[0mprint\u001b[0m\u001b[1;33m(\u001b[0m\u001b[0mxg_search\u001b[0m\u001b[1;33m.\u001b[0m\u001b[0mbest_params_\u001b[0m\u001b[1;33m)\u001b[0m\u001b[1;33m\u001b[0m\u001b[1;33m\u001b[0m\u001b[0m\n",
      "\u001b[1;32m~\\Anaconda3\\lib\\site-packages\\sklearn\\model_selection\\_search.py\u001b[0m in \u001b[0;36mfit\u001b[1;34m(self, X, y, groups, **fit_params)\u001b[0m\n\u001b[0;32m    686\u001b[0m                 \u001b[1;32mreturn\u001b[0m \u001b[0mresults\u001b[0m\u001b[1;33m\u001b[0m\u001b[1;33m\u001b[0m\u001b[0m\n\u001b[0;32m    687\u001b[0m \u001b[1;33m\u001b[0m\u001b[0m\n\u001b[1;32m--> 688\u001b[1;33m             \u001b[0mself\u001b[0m\u001b[1;33m.\u001b[0m\u001b[0m_run_search\u001b[0m\u001b[1;33m(\u001b[0m\u001b[0mevaluate_candidates\u001b[0m\u001b[1;33m)\u001b[0m\u001b[1;33m\u001b[0m\u001b[1;33m\u001b[0m\u001b[0m\n\u001b[0m\u001b[0;32m    689\u001b[0m \u001b[1;33m\u001b[0m\u001b[0m\n\u001b[0;32m    690\u001b[0m         \u001b[1;31m# For multi-metric evaluation, store the best_index_, best_params_ and\u001b[0m\u001b[1;33m\u001b[0m\u001b[1;33m\u001b[0m\u001b[1;33m\u001b[0m\u001b[0m\n",
      "\u001b[1;32m~\\Anaconda3\\lib\\site-packages\\sklearn\\model_selection\\_search.py\u001b[0m in \u001b[0;36m_run_search\u001b[1;34m(self, evaluate_candidates)\u001b[0m\n\u001b[0;32m   1147\u001b[0m     \u001b[1;32mdef\u001b[0m \u001b[0m_run_search\u001b[0m\u001b[1;33m(\u001b[0m\u001b[0mself\u001b[0m\u001b[1;33m,\u001b[0m \u001b[0mevaluate_candidates\u001b[0m\u001b[1;33m)\u001b[0m\u001b[1;33m:\u001b[0m\u001b[1;33m\u001b[0m\u001b[1;33m\u001b[0m\u001b[0m\n\u001b[0;32m   1148\u001b[0m         \u001b[1;34m\"\"\"Search all candidates in param_grid\"\"\"\u001b[0m\u001b[1;33m\u001b[0m\u001b[1;33m\u001b[0m\u001b[0m\n\u001b[1;32m-> 1149\u001b[1;33m         \u001b[0mevaluate_candidates\u001b[0m\u001b[1;33m(\u001b[0m\u001b[0mParameterGrid\u001b[0m\u001b[1;33m(\u001b[0m\u001b[0mself\u001b[0m\u001b[1;33m.\u001b[0m\u001b[0mparam_grid\u001b[0m\u001b[1;33m)\u001b[0m\u001b[1;33m)\u001b[0m\u001b[1;33m\u001b[0m\u001b[1;33m\u001b[0m\u001b[0m\n\u001b[0m\u001b[0;32m   1150\u001b[0m \u001b[1;33m\u001b[0m\u001b[0m\n\u001b[0;32m   1151\u001b[0m \u001b[1;33m\u001b[0m\u001b[0m\n",
      "\u001b[1;32m~\\Anaconda3\\lib\\site-packages\\sklearn\\model_selection\\_search.py\u001b[0m in \u001b[0;36mevaluate_candidates\u001b[1;34m(candidate_params)\u001b[0m\n\u001b[0;32m    665\u001b[0m                                \u001b[1;32mfor\u001b[0m \u001b[0mparameters\u001b[0m\u001b[1;33m,\u001b[0m \u001b[1;33m(\u001b[0m\u001b[0mtrain\u001b[0m\u001b[1;33m,\u001b[0m \u001b[0mtest\u001b[0m\u001b[1;33m)\u001b[0m\u001b[1;33m\u001b[0m\u001b[1;33m\u001b[0m\u001b[0m\n\u001b[0;32m    666\u001b[0m                                in product(candidate_params,\n\u001b[1;32m--> 667\u001b[1;33m                                           cv.split(X, y, groups)))\n\u001b[0m\u001b[0;32m    668\u001b[0m \u001b[1;33m\u001b[0m\u001b[0m\n\u001b[0;32m    669\u001b[0m                 \u001b[1;32mif\u001b[0m \u001b[0mlen\u001b[0m\u001b[1;33m(\u001b[0m\u001b[0mout\u001b[0m\u001b[1;33m)\u001b[0m \u001b[1;33m<\u001b[0m \u001b[1;36m1\u001b[0m\u001b[1;33m:\u001b[0m\u001b[1;33m\u001b[0m\u001b[1;33m\u001b[0m\u001b[0m\n",
      "\u001b[1;32m~\\Anaconda3\\lib\\site-packages\\joblib\\parallel.py\u001b[0m in \u001b[0;36m__call__\u001b[1;34m(self, iterable)\u001b[0m\n\u001b[0;32m    922\u001b[0m                 \u001b[0mself\u001b[0m\u001b[1;33m.\u001b[0m\u001b[0m_iterating\u001b[0m \u001b[1;33m=\u001b[0m \u001b[0mself\u001b[0m\u001b[1;33m.\u001b[0m\u001b[0m_original_iterator\u001b[0m \u001b[1;32mis\u001b[0m \u001b[1;32mnot\u001b[0m \u001b[1;32mNone\u001b[0m\u001b[1;33m\u001b[0m\u001b[1;33m\u001b[0m\u001b[0m\n\u001b[0;32m    923\u001b[0m \u001b[1;33m\u001b[0m\u001b[0m\n\u001b[1;32m--> 924\u001b[1;33m             \u001b[1;32mwhile\u001b[0m \u001b[0mself\u001b[0m\u001b[1;33m.\u001b[0m\u001b[0mdispatch_one_batch\u001b[0m\u001b[1;33m(\u001b[0m\u001b[0miterator\u001b[0m\u001b[1;33m)\u001b[0m\u001b[1;33m:\u001b[0m\u001b[1;33m\u001b[0m\u001b[1;33m\u001b[0m\u001b[0m\n\u001b[0m\u001b[0;32m    925\u001b[0m                 \u001b[1;32mpass\u001b[0m\u001b[1;33m\u001b[0m\u001b[1;33m\u001b[0m\u001b[0m\n\u001b[0;32m    926\u001b[0m \u001b[1;33m\u001b[0m\u001b[0m\n",
      "\u001b[1;32m~\\Anaconda3\\lib\\site-packages\\joblib\\parallel.py\u001b[0m in \u001b[0;36mdispatch_one_batch\u001b[1;34m(self, iterator)\u001b[0m\n\u001b[0;32m    757\u001b[0m                 \u001b[1;32mreturn\u001b[0m \u001b[1;32mFalse\u001b[0m\u001b[1;33m\u001b[0m\u001b[1;33m\u001b[0m\u001b[0m\n\u001b[0;32m    758\u001b[0m             \u001b[1;32melse\u001b[0m\u001b[1;33m:\u001b[0m\u001b[1;33m\u001b[0m\u001b[1;33m\u001b[0m\u001b[0m\n\u001b[1;32m--> 759\u001b[1;33m                 \u001b[0mself\u001b[0m\u001b[1;33m.\u001b[0m\u001b[0m_dispatch\u001b[0m\u001b[1;33m(\u001b[0m\u001b[0mtasks\u001b[0m\u001b[1;33m)\u001b[0m\u001b[1;33m\u001b[0m\u001b[1;33m\u001b[0m\u001b[0m\n\u001b[0m\u001b[0;32m    760\u001b[0m                 \u001b[1;32mreturn\u001b[0m \u001b[1;32mTrue\u001b[0m\u001b[1;33m\u001b[0m\u001b[1;33m\u001b[0m\u001b[0m\n\u001b[0;32m    761\u001b[0m \u001b[1;33m\u001b[0m\u001b[0m\n",
      "\u001b[1;32m~\\Anaconda3\\lib\\site-packages\\joblib\\parallel.py\u001b[0m in \u001b[0;36m_dispatch\u001b[1;34m(self, batch)\u001b[0m\n\u001b[0;32m    714\u001b[0m         \u001b[1;32mwith\u001b[0m \u001b[0mself\u001b[0m\u001b[1;33m.\u001b[0m\u001b[0m_lock\u001b[0m\u001b[1;33m:\u001b[0m\u001b[1;33m\u001b[0m\u001b[1;33m\u001b[0m\u001b[0m\n\u001b[0;32m    715\u001b[0m             \u001b[0mjob_idx\u001b[0m \u001b[1;33m=\u001b[0m \u001b[0mlen\u001b[0m\u001b[1;33m(\u001b[0m\u001b[0mself\u001b[0m\u001b[1;33m.\u001b[0m\u001b[0m_jobs\u001b[0m\u001b[1;33m)\u001b[0m\u001b[1;33m\u001b[0m\u001b[1;33m\u001b[0m\u001b[0m\n\u001b[1;32m--> 716\u001b[1;33m             \u001b[0mjob\u001b[0m \u001b[1;33m=\u001b[0m \u001b[0mself\u001b[0m\u001b[1;33m.\u001b[0m\u001b[0m_backend\u001b[0m\u001b[1;33m.\u001b[0m\u001b[0mapply_async\u001b[0m\u001b[1;33m(\u001b[0m\u001b[0mbatch\u001b[0m\u001b[1;33m,\u001b[0m \u001b[0mcallback\u001b[0m\u001b[1;33m=\u001b[0m\u001b[0mcb\u001b[0m\u001b[1;33m)\u001b[0m\u001b[1;33m\u001b[0m\u001b[1;33m\u001b[0m\u001b[0m\n\u001b[0m\u001b[0;32m    717\u001b[0m             \u001b[1;31m# A job can complete so quickly than its callback is\u001b[0m\u001b[1;33m\u001b[0m\u001b[1;33m\u001b[0m\u001b[1;33m\u001b[0m\u001b[0m\n\u001b[0;32m    718\u001b[0m             \u001b[1;31m# called before we get here, causing self._jobs to\u001b[0m\u001b[1;33m\u001b[0m\u001b[1;33m\u001b[0m\u001b[1;33m\u001b[0m\u001b[0m\n",
      "\u001b[1;32m~\\Anaconda3\\lib\\site-packages\\joblib\\_parallel_backends.py\u001b[0m in \u001b[0;36mapply_async\u001b[1;34m(self, func, callback)\u001b[0m\n\u001b[0;32m    180\u001b[0m     \u001b[1;32mdef\u001b[0m \u001b[0mapply_async\u001b[0m\u001b[1;33m(\u001b[0m\u001b[0mself\u001b[0m\u001b[1;33m,\u001b[0m \u001b[0mfunc\u001b[0m\u001b[1;33m,\u001b[0m \u001b[0mcallback\u001b[0m\u001b[1;33m=\u001b[0m\u001b[1;32mNone\u001b[0m\u001b[1;33m)\u001b[0m\u001b[1;33m:\u001b[0m\u001b[1;33m\u001b[0m\u001b[1;33m\u001b[0m\u001b[0m\n\u001b[0;32m    181\u001b[0m         \u001b[1;34m\"\"\"Schedule a func to be run\"\"\"\u001b[0m\u001b[1;33m\u001b[0m\u001b[1;33m\u001b[0m\u001b[0m\n\u001b[1;32m--> 182\u001b[1;33m         \u001b[0mresult\u001b[0m \u001b[1;33m=\u001b[0m \u001b[0mImmediateResult\u001b[0m\u001b[1;33m(\u001b[0m\u001b[0mfunc\u001b[0m\u001b[1;33m)\u001b[0m\u001b[1;33m\u001b[0m\u001b[1;33m\u001b[0m\u001b[0m\n\u001b[0m\u001b[0;32m    183\u001b[0m         \u001b[1;32mif\u001b[0m \u001b[0mcallback\u001b[0m\u001b[1;33m:\u001b[0m\u001b[1;33m\u001b[0m\u001b[1;33m\u001b[0m\u001b[0m\n\u001b[0;32m    184\u001b[0m             \u001b[0mcallback\u001b[0m\u001b[1;33m(\u001b[0m\u001b[0mresult\u001b[0m\u001b[1;33m)\u001b[0m\u001b[1;33m\u001b[0m\u001b[1;33m\u001b[0m\u001b[0m\n",
      "\u001b[1;32m~\\Anaconda3\\lib\\site-packages\\joblib\\_parallel_backends.py\u001b[0m in \u001b[0;36m__init__\u001b[1;34m(self, batch)\u001b[0m\n\u001b[0;32m    547\u001b[0m         \u001b[1;31m# Don't delay the application, to avoid keeping the input\u001b[0m\u001b[1;33m\u001b[0m\u001b[1;33m\u001b[0m\u001b[1;33m\u001b[0m\u001b[0m\n\u001b[0;32m    548\u001b[0m         \u001b[1;31m# arguments in memory\u001b[0m\u001b[1;33m\u001b[0m\u001b[1;33m\u001b[0m\u001b[1;33m\u001b[0m\u001b[0m\n\u001b[1;32m--> 549\u001b[1;33m         \u001b[0mself\u001b[0m\u001b[1;33m.\u001b[0m\u001b[0mresults\u001b[0m \u001b[1;33m=\u001b[0m \u001b[0mbatch\u001b[0m\u001b[1;33m(\u001b[0m\u001b[1;33m)\u001b[0m\u001b[1;33m\u001b[0m\u001b[1;33m\u001b[0m\u001b[0m\n\u001b[0m\u001b[0;32m    550\u001b[0m \u001b[1;33m\u001b[0m\u001b[0m\n\u001b[0;32m    551\u001b[0m     \u001b[1;32mdef\u001b[0m \u001b[0mget\u001b[0m\u001b[1;33m(\u001b[0m\u001b[0mself\u001b[0m\u001b[1;33m)\u001b[0m\u001b[1;33m:\u001b[0m\u001b[1;33m\u001b[0m\u001b[1;33m\u001b[0m\u001b[0m\n",
      "\u001b[1;32m~\\Anaconda3\\lib\\site-packages\\joblib\\parallel.py\u001b[0m in \u001b[0;36m__call__\u001b[1;34m(self)\u001b[0m\n\u001b[0;32m    223\u001b[0m         \u001b[1;32mwith\u001b[0m \u001b[0mparallel_backend\u001b[0m\u001b[1;33m(\u001b[0m\u001b[0mself\u001b[0m\u001b[1;33m.\u001b[0m\u001b[0m_backend\u001b[0m\u001b[1;33m,\u001b[0m \u001b[0mn_jobs\u001b[0m\u001b[1;33m=\u001b[0m\u001b[0mself\u001b[0m\u001b[1;33m.\u001b[0m\u001b[0m_n_jobs\u001b[0m\u001b[1;33m)\u001b[0m\u001b[1;33m:\u001b[0m\u001b[1;33m\u001b[0m\u001b[1;33m\u001b[0m\u001b[0m\n\u001b[0;32m    224\u001b[0m             return [func(*args, **kwargs)\n\u001b[1;32m--> 225\u001b[1;33m                     for func, args, kwargs in self.items]\n\u001b[0m\u001b[0;32m    226\u001b[0m \u001b[1;33m\u001b[0m\u001b[0m\n\u001b[0;32m    227\u001b[0m     \u001b[1;32mdef\u001b[0m \u001b[0m__len__\u001b[0m\u001b[1;33m(\u001b[0m\u001b[0mself\u001b[0m\u001b[1;33m)\u001b[0m\u001b[1;33m:\u001b[0m\u001b[1;33m\u001b[0m\u001b[1;33m\u001b[0m\u001b[0m\n",
      "\u001b[1;32m~\\Anaconda3\\lib\\site-packages\\joblib\\parallel.py\u001b[0m in \u001b[0;36m<listcomp>\u001b[1;34m(.0)\u001b[0m\n\u001b[0;32m    223\u001b[0m         \u001b[1;32mwith\u001b[0m \u001b[0mparallel_backend\u001b[0m\u001b[1;33m(\u001b[0m\u001b[0mself\u001b[0m\u001b[1;33m.\u001b[0m\u001b[0m_backend\u001b[0m\u001b[1;33m,\u001b[0m \u001b[0mn_jobs\u001b[0m\u001b[1;33m=\u001b[0m\u001b[0mself\u001b[0m\u001b[1;33m.\u001b[0m\u001b[0m_n_jobs\u001b[0m\u001b[1;33m)\u001b[0m\u001b[1;33m:\u001b[0m\u001b[1;33m\u001b[0m\u001b[1;33m\u001b[0m\u001b[0m\n\u001b[0;32m    224\u001b[0m             return [func(*args, **kwargs)\n\u001b[1;32m--> 225\u001b[1;33m                     for func, args, kwargs in self.items]\n\u001b[0m\u001b[0;32m    226\u001b[0m \u001b[1;33m\u001b[0m\u001b[0m\n\u001b[0;32m    227\u001b[0m     \u001b[1;32mdef\u001b[0m \u001b[0m__len__\u001b[0m\u001b[1;33m(\u001b[0m\u001b[0mself\u001b[0m\u001b[1;33m)\u001b[0m\u001b[1;33m:\u001b[0m\u001b[1;33m\u001b[0m\u001b[1;33m\u001b[0m\u001b[0m\n",
      "\u001b[1;32m~\\Anaconda3\\lib\\site-packages\\sklearn\\model_selection\\_validation.py\u001b[0m in \u001b[0;36m_fit_and_score\u001b[1;34m(estimator, X, y, scorer, train, test, verbose, parameters, fit_params, return_train_score, return_parameters, return_n_test_samples, return_times, return_estimator, error_score)\u001b[0m\n\u001b[0;32m    514\u001b[0m             \u001b[0mestimator\u001b[0m\u001b[1;33m.\u001b[0m\u001b[0mfit\u001b[0m\u001b[1;33m(\u001b[0m\u001b[0mX_train\u001b[0m\u001b[1;33m,\u001b[0m \u001b[1;33m**\u001b[0m\u001b[0mfit_params\u001b[0m\u001b[1;33m)\u001b[0m\u001b[1;33m\u001b[0m\u001b[1;33m\u001b[0m\u001b[0m\n\u001b[0;32m    515\u001b[0m         \u001b[1;32melse\u001b[0m\u001b[1;33m:\u001b[0m\u001b[1;33m\u001b[0m\u001b[1;33m\u001b[0m\u001b[0m\n\u001b[1;32m--> 516\u001b[1;33m             \u001b[0mestimator\u001b[0m\u001b[1;33m.\u001b[0m\u001b[0mfit\u001b[0m\u001b[1;33m(\u001b[0m\u001b[0mX_train\u001b[0m\u001b[1;33m,\u001b[0m \u001b[0my_train\u001b[0m\u001b[1;33m,\u001b[0m \u001b[1;33m**\u001b[0m\u001b[0mfit_params\u001b[0m\u001b[1;33m)\u001b[0m\u001b[1;33m\u001b[0m\u001b[1;33m\u001b[0m\u001b[0m\n\u001b[0m\u001b[0;32m    517\u001b[0m \u001b[1;33m\u001b[0m\u001b[0m\n\u001b[0;32m    518\u001b[0m     \u001b[1;32mexcept\u001b[0m \u001b[0mException\u001b[0m \u001b[1;32mas\u001b[0m \u001b[0me\u001b[0m\u001b[1;33m:\u001b[0m\u001b[1;33m\u001b[0m\u001b[1;33m\u001b[0m\u001b[0m\n",
      "\u001b[1;32m~\\Anaconda3\\lib\\site-packages\\xgboost\\sklearn.py\u001b[0m in \u001b[0;36mfit\u001b[1;34m(self, X, y, sample_weight, base_margin, eval_set, eval_metric, early_stopping_rounds, verbose, xgb_model, sample_weight_eval_set, callbacks)\u001b[0m\n\u001b[0;32m    821\u001b[0m                               \u001b[0mevals_result\u001b[0m\u001b[1;33m=\u001b[0m\u001b[0mevals_result\u001b[0m\u001b[1;33m,\u001b[0m \u001b[0mobj\u001b[0m\u001b[1;33m=\u001b[0m\u001b[0mobj\u001b[0m\u001b[1;33m,\u001b[0m \u001b[0mfeval\u001b[0m\u001b[1;33m=\u001b[0m\u001b[0mfeval\u001b[0m\u001b[1;33m,\u001b[0m\u001b[1;33m\u001b[0m\u001b[1;33m\u001b[0m\u001b[0m\n\u001b[0;32m    822\u001b[0m                               \u001b[0mverbose_eval\u001b[0m\u001b[1;33m=\u001b[0m\u001b[0mverbose\u001b[0m\u001b[1;33m,\u001b[0m \u001b[0mxgb_model\u001b[0m\u001b[1;33m=\u001b[0m\u001b[0mxgb_model\u001b[0m\u001b[1;33m,\u001b[0m\u001b[1;33m\u001b[0m\u001b[1;33m\u001b[0m\u001b[0m\n\u001b[1;32m--> 823\u001b[1;33m                               callbacks=callbacks)\n\u001b[0m\u001b[0;32m    824\u001b[0m \u001b[1;33m\u001b[0m\u001b[0m\n\u001b[0;32m    825\u001b[0m         \u001b[0mself\u001b[0m\u001b[1;33m.\u001b[0m\u001b[0mobjective\u001b[0m \u001b[1;33m=\u001b[0m \u001b[0mxgb_options\u001b[0m\u001b[1;33m[\u001b[0m\u001b[1;34m\"objective\"\u001b[0m\u001b[1;33m]\u001b[0m\u001b[1;33m\u001b[0m\u001b[1;33m\u001b[0m\u001b[0m\n",
      "\u001b[1;32m~\\Anaconda3\\lib\\site-packages\\xgboost\\training.py\u001b[0m in \u001b[0;36mtrain\u001b[1;34m(params, dtrain, num_boost_round, evals, obj, feval, maximize, early_stopping_rounds, evals_result, verbose_eval, xgb_model, callbacks)\u001b[0m\n\u001b[0;32m    207\u001b[0m                            \u001b[0mevals\u001b[0m\u001b[1;33m=\u001b[0m\u001b[0mevals\u001b[0m\u001b[1;33m,\u001b[0m\u001b[1;33m\u001b[0m\u001b[1;33m\u001b[0m\u001b[0m\n\u001b[0;32m    208\u001b[0m                            \u001b[0mobj\u001b[0m\u001b[1;33m=\u001b[0m\u001b[0mobj\u001b[0m\u001b[1;33m,\u001b[0m \u001b[0mfeval\u001b[0m\u001b[1;33m=\u001b[0m\u001b[0mfeval\u001b[0m\u001b[1;33m,\u001b[0m\u001b[1;33m\u001b[0m\u001b[1;33m\u001b[0m\u001b[0m\n\u001b[1;32m--> 209\u001b[1;33m                            xgb_model=xgb_model, callbacks=callbacks)\n\u001b[0m\u001b[0;32m    210\u001b[0m \u001b[1;33m\u001b[0m\u001b[0m\n\u001b[0;32m    211\u001b[0m \u001b[1;33m\u001b[0m\u001b[0m\n",
      "\u001b[1;32m~\\Anaconda3\\lib\\site-packages\\xgboost\\training.py\u001b[0m in \u001b[0;36m_train_internal\u001b[1;34m(params, dtrain, num_boost_round, evals, obj, feval, xgb_model, callbacks)\u001b[0m\n\u001b[0;32m     72\u001b[0m         \u001b[1;31m# Skip the first update if it is a recovery step.\u001b[0m\u001b[1;33m\u001b[0m\u001b[1;33m\u001b[0m\u001b[1;33m\u001b[0m\u001b[0m\n\u001b[0;32m     73\u001b[0m         \u001b[1;32mif\u001b[0m \u001b[0mversion\u001b[0m \u001b[1;33m%\u001b[0m \u001b[1;36m2\u001b[0m \u001b[1;33m==\u001b[0m \u001b[1;36m0\u001b[0m\u001b[1;33m:\u001b[0m\u001b[1;33m\u001b[0m\u001b[1;33m\u001b[0m\u001b[0m\n\u001b[1;32m---> 74\u001b[1;33m             \u001b[0mbst\u001b[0m\u001b[1;33m.\u001b[0m\u001b[0mupdate\u001b[0m\u001b[1;33m(\u001b[0m\u001b[0mdtrain\u001b[0m\u001b[1;33m,\u001b[0m \u001b[0mi\u001b[0m\u001b[1;33m,\u001b[0m \u001b[0mobj\u001b[0m\u001b[1;33m)\u001b[0m\u001b[1;33m\u001b[0m\u001b[1;33m\u001b[0m\u001b[0m\n\u001b[0m\u001b[0;32m     75\u001b[0m             \u001b[0mbst\u001b[0m\u001b[1;33m.\u001b[0m\u001b[0msave_rabit_checkpoint\u001b[0m\u001b[1;33m(\u001b[0m\u001b[1;33m)\u001b[0m\u001b[1;33m\u001b[0m\u001b[1;33m\u001b[0m\u001b[0m\n\u001b[0;32m     76\u001b[0m             \u001b[0mversion\u001b[0m \u001b[1;33m+=\u001b[0m \u001b[1;36m1\u001b[0m\u001b[1;33m\u001b[0m\u001b[1;33m\u001b[0m\u001b[0m\n",
      "\u001b[1;32m~\\Anaconda3\\lib\\site-packages\\xgboost\\core.py\u001b[0m in \u001b[0;36mupdate\u001b[1;34m(self, dtrain, iteration, fobj)\u001b[0m\n\u001b[0;32m   1247\u001b[0m             _check_call(_LIB.XGBoosterUpdateOneIter(self.handle,\n\u001b[0;32m   1248\u001b[0m                                                     \u001b[0mctypes\u001b[0m\u001b[1;33m.\u001b[0m\u001b[0mc_int\u001b[0m\u001b[1;33m(\u001b[0m\u001b[0miteration\u001b[0m\u001b[1;33m)\u001b[0m\u001b[1;33m,\u001b[0m\u001b[1;33m\u001b[0m\u001b[1;33m\u001b[0m\u001b[0m\n\u001b[1;32m-> 1249\u001b[1;33m                                                     dtrain.handle))\n\u001b[0m\u001b[0;32m   1250\u001b[0m         \u001b[1;32melse\u001b[0m\u001b[1;33m:\u001b[0m\u001b[1;33m\u001b[0m\u001b[1;33m\u001b[0m\u001b[0m\n\u001b[0;32m   1251\u001b[0m             \u001b[0mpred\u001b[0m \u001b[1;33m=\u001b[0m \u001b[0mself\u001b[0m\u001b[1;33m.\u001b[0m\u001b[0mpredict\u001b[0m\u001b[1;33m(\u001b[0m\u001b[0mdtrain\u001b[0m\u001b[1;33m,\u001b[0m \u001b[0mtraining\u001b[0m\u001b[1;33m=\u001b[0m\u001b[1;32mTrue\u001b[0m\u001b[1;33m)\u001b[0m\u001b[1;33m\u001b[0m\u001b[1;33m\u001b[0m\u001b[0m\n",
      "\u001b[1;31mKeyboardInterrupt\u001b[0m: "
     ]
    }
   ],
   "source": [
    "#Create a Grid for GridsearchCV to find the best parameters for the classifier\n",
    "xg_param_grid = {'n_estimators': [200],\n",
    "              'learning_rate': [0.05, 0.1], \n",
    "              'max_depth': [6,7],\n",
    "              'colsample_bytree': [0.7, 1],\n",
    "              'gamma': [0.0, 0.1, 0.2]}\n",
    "\n",
    "xg_search = GridSearchCV(xgboost, xg_param_grid, scoring='accuracy', cv=3)\n",
    "\n",
    "xg_search.fit(X_train, y_train)\n",
    "\n",
    "print(xg_search.best_params_)"
   ]
  },
  {
   "cell_type": "code",
   "execution_count": 17,
   "metadata": {},
   "outputs": [],
   "source": [
    "# Instantiate the XGBoost classifier using GridSearchCV hyperparameters\n",
    "booster = xgb.XGBClassifier(learning_rate=0.1, max_depth=7, n_estimators=200,\n",
    "                            colsample_bytree=0.7, gamma=0.1, random_state=42)"
   ]
  },
  {
   "cell_type": "code",
   "execution_count": 18,
   "metadata": {},
   "outputs": [
    {
     "data": {
      "text/plain": [
       "XGBClassifier(base_score=0.5, booster=None, colsample_bylevel=1,\n",
       "              colsample_bynode=1, colsample_bytree=0.7, gamma=0.1, gpu_id=-1,\n",
       "              importance_type='gain', interaction_constraints=None,\n",
       "              learning_rate=0.1, max_delta_step=0, max_depth=7,\n",
       "              min_child_weight=1, missing=nan, monotone_constraints=None,\n",
       "              n_estimators=200, n_jobs=0, num_parallel_tree=1,\n",
       "              objective='multi:softprob', random_state=42, reg_alpha=0,\n",
       "              reg_lambda=1, scale_pos_weight=None, subsample=1,\n",
       "              tree_method=None, validate_parameters=False, verbosity=None)"
      ]
     },
     "execution_count": 18,
     "metadata": {},
     "output_type": "execute_result"
    }
   ],
   "source": [
    "#Train the data on the model\n",
    "booster.fit(X_train, y_train)"
   ]
  },
  {
   "cell_type": "code",
   "execution_count": 19,
   "metadata": {},
   "outputs": [],
   "source": [
    "pred = booster.predict(missing_reading)"
   ]
  },
  {
   "cell_type": "code",
   "execution_count": 21,
   "metadata": {},
   "outputs": [
    {
     "name": "stdout",
     "output_type": "stream",
     "text": [
      "32\n",
      "32\n",
      "32\n",
      "29\n",
      "29\n",
      "29\n",
      "30\n",
      "29\n",
      "29\n",
      "31\n",
      "31\n",
      "31\n",
      "29\n",
      "29\n",
      "29\n",
      "29\n",
      "29\n",
      "27\n",
      "26\n",
      "27\n"
     ]
    }
   ],
   "source": [
    "for x in np.nditer(pred): \n",
    "   print(x,)"
   ]
  },
  {
   "cell_type": "markdown",
   "metadata": {},
   "source": [
    "### RFC"
   ]
  },
  {
   "cell_type": "code",
   "execution_count": 22,
   "metadata": {},
   "outputs": [],
   "source": [
    "#Instantiate the RandomForestClassifier for GridsearchCV\n",
    "forest = RandomForestClassifier()"
   ]
  },
  {
   "cell_type": "code",
   "execution_count": 211,
   "metadata": {},
   "outputs": [
    {
     "name": "stderr",
     "output_type": "stream",
     "text": [
      "C:\\Users\\John\\Anaconda3\\lib\\site-packages\\sklearn\\model_selection\\_search.py:814: DeprecationWarning: The default of the `iid` parameter will change from True to False in version 0.22 and will be removed in 0.24. This will change numeric results when test-set sizes are unequal.\n",
      "  DeprecationWarning)\n"
     ]
    },
    {
     "name": "stdout",
     "output_type": "stream",
     "text": [
      "{'criterion': 'entropy', 'max_depth': 6, 'min_samples_leaf': 2, 'min_samples_split': 2, 'n_estimators': 1000}\n"
     ]
    }
   ],
   "source": [
    "#Create a Grid for GridsearchCV to find the best parameters for the classifier\n",
    "rf_param_grid = {'n_estimators': [100,250,500,1000],\n",
    "                'criterion': ['gini', 'entropy'],\n",
    "                'max_depth': [None, 2, 6, 10],\n",
    "                'min_samples_split': [2, 5, 10],\n",
    "                'min_samples_leaf': [2, 3, 6]}\n",
    "\n",
    "gs_tree = GridSearchCV(forest, rf_param_grid, cv=3)\n",
    "\n",
    "gs_tree.fit(X_train, y_train)\n",
    "print(gs_tree.best_params_)"
   ]
  },
  {
   "cell_type": "code",
   "execution_count": 23,
   "metadata": {},
   "outputs": [],
   "source": [
    "forest = RandomForestClassifier(n_estimators=1000, criterion='entropy', \n",
    "                                max_depth=6, min_samples_split=2, min_samples_leaf=2, random_state=42)"
   ]
  },
  {
   "cell_type": "code",
   "execution_count": 24,
   "metadata": {},
   "outputs": [
    {
     "data": {
      "text/plain": [
       "RandomForestClassifier(bootstrap=True, class_weight=None, criterion='entropy',\n",
       "                       max_depth=6, max_features='auto', max_leaf_nodes=None,\n",
       "                       min_impurity_decrease=0.0, min_impurity_split=None,\n",
       "                       min_samples_leaf=2, min_samples_split=2,\n",
       "                       min_weight_fraction_leaf=0.0, n_estimators=1000,\n",
       "                       n_jobs=None, oob_score=False, random_state=42, verbose=0,\n",
       "                       warm_start=False)"
      ]
     },
     "execution_count": 24,
     "metadata": {},
     "output_type": "execute_result"
    }
   ],
   "source": [
    "forest.fit(X_train, y_train)"
   ]
  },
  {
   "cell_type": "code",
   "execution_count": 25,
   "metadata": {},
   "outputs": [],
   "source": [
    "pred2 = forest.predict(missing_reading)"
   ]
  },
  {
   "cell_type": "code",
   "execution_count": 26,
   "metadata": {},
   "outputs": [
    {
     "name": "stdout",
     "output_type": "stream",
     "text": [
      "32\n",
      "32\n",
      "32\n",
      "29\n",
      "29\n",
      "29\n",
      "29\n",
      "29\n",
      "29\n",
      "31\n",
      "31\n",
      "31\n",
      "29\n",
      "29\n",
      "29\n",
      "29\n",
      "29\n",
      "29\n",
      "26\n",
      "27\n"
     ]
    }
   ],
   "source": [
    "for x in np.nditer(pred2): \n",
    "   print(x,)"
   ]
  },
  {
   "cell_type": "code",
   "execution_count": 27,
   "metadata": {},
   "outputs": [
    {
     "name": "stdout",
     "output_type": "stream",
     "text": [
      "32\n",
      "32\n",
      "32\n",
      "29\n",
      "29\n",
      "29\n",
      "29\n",
      "29\n",
      "29\n",
      "31\n",
      "31\n",
      "31\n",
      "29\n",
      "29\n",
      "29\n",
      "29\n",
      "29\n",
      "29\n",
      "26\n",
      "27\n"
     ]
    }
   ],
   "source": [
    "for x in np.nditer(pred2): \n",
    "   print(x,)"
   ]
  },
  {
   "cell_type": "code",
   "execution_count": 28,
   "metadata": {},
   "outputs": [],
   "source": [
    "linreg = LinearRegression()"
   ]
  },
  {
   "cell_type": "code",
   "execution_count": 29,
   "metadata": {},
   "outputs": [
    {
     "data": {
      "text/plain": [
       "LinearRegression(copy_X=True, fit_intercept=True, n_jobs=None, normalize=False)"
      ]
     },
     "execution_count": 29,
     "metadata": {},
     "output_type": "execute_result"
    }
   ],
   "source": [
    "linreg.fit(X_train, y_train)"
   ]
  },
  {
   "cell_type": "code",
   "execution_count": 30,
   "metadata": {},
   "outputs": [],
   "source": [
    "lin_pred = linreg.predict(missing_reading)"
   ]
  },
  {
   "cell_type": "code",
   "execution_count": 31,
   "metadata": {},
   "outputs": [
    {
     "data": {
      "text/plain": [
       "array([30.47157605, 30.40503293, 30.36344348, 29.87268795, 29.80614483,\n",
       "       29.78119116, 29.39856821, 29.37361454, 29.34866087, 28.96603791,\n",
       "       28.90781268, 28.88285901, 28.72481909, 28.7165012 , 28.67491175,\n",
       "       28.54182551, 28.49191816, 28.43369293, 28.40873926, 28.18415622])"
      ]
     },
     "execution_count": 31,
     "metadata": {},
     "output_type": "execute_result"
    }
   ],
   "source": [
    "lin_pred"
   ]
  },
  {
   "cell_type": "code",
   "execution_count": 32,
   "metadata": {},
   "outputs": [
    {
     "name": "stdout",
     "output_type": "stream",
     "text": [
      "30.471576054492118\n",
      "30.405032932155393\n",
      "30.36344348069494\n",
      "29.872687953461508\n",
      "29.806144831124755\n",
      "29.781191160248483\n",
      "29.398568206812257\n",
      "29.373614535935957\n",
      "29.348660865059685\n",
      "28.96603791162346\n",
      "28.907812679578797\n",
      "28.882859008702525\n",
      "28.724819093152774\n",
      "28.716501202860684\n",
      "28.67491175140023\n",
      "28.541825506726752\n",
      "28.49191816497421\n",
      "28.433692932929546\n",
      "28.408739262053274\n",
      "28.1841562241668\n"
     ]
    }
   ],
   "source": [
    "for x in np.nditer(lin_pred): \n",
    "   print(x,)"
   ]
  },
  {
   "cell_type": "markdown",
   "metadata": {},
   "source": [
    "## Pandas Interpolation"
   ]
  },
  {
   "cell_type": "code",
   "execution_count": 155,
   "metadata": {},
   "outputs": [],
   "source": [
    "merc = []\n",
    "time = []\n",
    "\n",
    "for reading in content:\n",
    "    float_days = datetime.strptime(reading.split(\"\\t\")[0], '%m/%d/%Y %H:%M:%S')\n",
    "    time.append(float_days)\n",
    "    try:\n",
    "        merc.append(float(reading.split(\"\\t\")[1]))\n",
    "    except:\n",
    "        merc.append(np.nan)\n",
    "        pass"
   ]
  },
  {
   "cell_type": "code",
   "execution_count": 156,
   "metadata": {},
   "outputs": [
    {
     "data": {
      "text/plain": [
       "Date\n",
       "2012-01-03 16:00:00    26.960\n",
       "2012-01-04 16:00:00    27.470\n",
       "2012-01-05 16:00:00    27.728\n",
       "2012-01-06 16:00:00    28.190\n",
       "2012-01-09 16:00:00    28.100\n",
       "dtype: float64"
      ]
     },
     "execution_count": 156,
     "metadata": {},
     "output_type": "execute_result"
    }
   ],
   "source": [
    "df = pd.Series(merc, index=time)\n",
    "df.index.name = 'Date'\n",
    "df.head()"
   ]
  },
  {
   "cell_type": "code",
   "execution_count": 158,
   "metadata": {},
   "outputs": [
    {
     "data": {
      "text/html": [
       "<div>\n",
       "<style scoped>\n",
       "    .dataframe tbody tr th:only-of-type {\n",
       "        vertical-align: middle;\n",
       "    }\n",
       "\n",
       "    .dataframe tbody tr th {\n",
       "        vertical-align: top;\n",
       "    }\n",
       "\n",
       "    .dataframe thead th {\n",
       "        text-align: right;\n",
       "    }\n",
       "</style>\n",
       "<table border=\"1\" class=\"dataframe\">\n",
       "  <thead>\n",
       "    <tr style=\"text-align: right;\">\n",
       "      <th></th>\n",
       "      <th>Date</th>\n",
       "      <th>Reading</th>\n",
       "    </tr>\n",
       "  </thead>\n",
       "  <tbody>\n",
       "    <tr>\n",
       "      <td>0</td>\n",
       "      <td>2012-01-03 16:00:00</td>\n",
       "      <td>26.960</td>\n",
       "    </tr>\n",
       "    <tr>\n",
       "      <td>1</td>\n",
       "      <td>2012-01-04 16:00:00</td>\n",
       "      <td>27.470</td>\n",
       "    </tr>\n",
       "    <tr>\n",
       "      <td>2</td>\n",
       "      <td>2012-01-05 16:00:00</td>\n",
       "      <td>27.728</td>\n",
       "    </tr>\n",
       "    <tr>\n",
       "      <td>3</td>\n",
       "      <td>2012-01-06 16:00:00</td>\n",
       "      <td>28.190</td>\n",
       "    </tr>\n",
       "    <tr>\n",
       "      <td>4</td>\n",
       "      <td>2012-01-09 16:00:00</td>\n",
       "      <td>28.100</td>\n",
       "    </tr>\n",
       "  </tbody>\n",
       "</table>\n",
       "</div>"
      ],
      "text/plain": [
       "                 Date  Reading\n",
       "0 2012-01-03 16:00:00   26.960\n",
       "1 2012-01-04 16:00:00   27.470\n",
       "2 2012-01-05 16:00:00   27.728\n",
       "3 2012-01-06 16:00:00   28.190\n",
       "4 2012-01-09 16:00:00   28.100"
      ]
     },
     "execution_count": 158,
     "metadata": {},
     "output_type": "execute_result"
    }
   ],
   "source": [
    "df = df.reset_index(name='Reading')\n",
    "missing_reading = df.loc[df.isnull().any(axis=1)]\n",
    "df.head()"
   ]
  },
  {
   "cell_type": "code",
   "execution_count": 171,
   "metadata": {},
   "outputs": [],
   "source": [
    "rows = []\n",
    "for index, row in missing_reading.iterrows():\n",
    "    rows.append(index)"
   ]
  },
  {
   "cell_type": "code",
   "execution_count": 159,
   "metadata": {},
   "outputs": [
    {
     "data": {
      "text/html": [
       "<div>\n",
       "<style scoped>\n",
       "    .dataframe tbody tr th:only-of-type {\n",
       "        vertical-align: middle;\n",
       "    }\n",
       "\n",
       "    .dataframe tbody tr th {\n",
       "        vertical-align: top;\n",
       "    }\n",
       "\n",
       "    .dataframe thead th {\n",
       "        text-align: right;\n",
       "    }\n",
       "</style>\n",
       "<table border=\"1\" class=\"dataframe\">\n",
       "  <thead>\n",
       "    <tr style=\"text-align: right;\">\n",
       "      <th></th>\n",
       "      <th>Date</th>\n",
       "      <th>Reading</th>\n",
       "    </tr>\n",
       "  </thead>\n",
       "  <tbody>\n",
       "    <tr>\n",
       "      <td>48</td>\n",
       "      <td>2012-03-13 16:00:00</td>\n",
       "      <td>NaN</td>\n",
       "    </tr>\n",
       "    <tr>\n",
       "      <td>54</td>\n",
       "      <td>2012-03-21 16:00:00</td>\n",
       "      <td>NaN</td>\n",
       "    </tr>\n",
       "    <tr>\n",
       "      <td>57</td>\n",
       "      <td>2012-03-26 16:00:00</td>\n",
       "      <td>NaN</td>\n",
       "    </tr>\n",
       "    <tr>\n",
       "      <td>99</td>\n",
       "      <td>2012-05-24 16:00:00</td>\n",
       "      <td>NaN</td>\n",
       "    </tr>\n",
       "    <tr>\n",
       "      <td>104</td>\n",
       "      <td>2012-06-01 16:00:00</td>\n",
       "      <td>NaN</td>\n",
       "    </tr>\n",
       "    <tr>\n",
       "      <td>105</td>\n",
       "      <td>2012-06-04 16:00:00</td>\n",
       "      <td>NaN</td>\n",
       "    </tr>\n",
       "    <tr>\n",
       "      <td>138</td>\n",
       "      <td>2012-07-20 16:00:00</td>\n",
       "      <td>NaN</td>\n",
       "    </tr>\n",
       "    <tr>\n",
       "      <td>139</td>\n",
       "      <td>2012-07-23 16:00:00</td>\n",
       "      <td>NaN</td>\n",
       "    </tr>\n",
       "    <tr>\n",
       "      <td>142</td>\n",
       "      <td>2012-07-26 16:00:00</td>\n",
       "      <td>NaN</td>\n",
       "    </tr>\n",
       "    <tr>\n",
       "      <td>173</td>\n",
       "      <td>2012-09-10 16:00:00</td>\n",
       "      <td>NaN</td>\n",
       "    </tr>\n",
       "    <tr>\n",
       "      <td>178</td>\n",
       "      <td>2012-09-17 16:00:00</td>\n",
       "      <td>NaN</td>\n",
       "    </tr>\n",
       "    <tr>\n",
       "      <td>181</td>\n",
       "      <td>2012-09-20 16:00:00</td>\n",
       "      <td>NaN</td>\n",
       "    </tr>\n",
       "    <tr>\n",
       "      <td>194</td>\n",
       "      <td>2012-10-09 16:00:00</td>\n",
       "      <td>NaN</td>\n",
       "    </tr>\n",
       "    <tr>\n",
       "      <td>195</td>\n",
       "      <td>2012-10-10 16:00:00</td>\n",
       "      <td>NaN</td>\n",
       "    </tr>\n",
       "    <tr>\n",
       "      <td>198</td>\n",
       "      <td>2012-10-15 16:00:00</td>\n",
       "      <td>NaN</td>\n",
       "    </tr>\n",
       "    <tr>\n",
       "      <td>208</td>\n",
       "      <td>2012-10-31 16:00:00</td>\n",
       "      <td>NaN</td>\n",
       "    </tr>\n",
       "    <tr>\n",
       "      <td>212</td>\n",
       "      <td>2012-11-06 16:00:00</td>\n",
       "      <td>NaN</td>\n",
       "    </tr>\n",
       "    <tr>\n",
       "      <td>217</td>\n",
       "      <td>2012-11-13 16:00:00</td>\n",
       "      <td>NaN</td>\n",
       "    </tr>\n",
       "    <tr>\n",
       "      <td>220</td>\n",
       "      <td>2012-11-16 16:00:00</td>\n",
       "      <td>NaN</td>\n",
       "    </tr>\n",
       "    <tr>\n",
       "      <td>238</td>\n",
       "      <td>2012-12-13 16:00:00</td>\n",
       "      <td>NaN</td>\n",
       "    </tr>\n",
       "  </tbody>\n",
       "</table>\n",
       "</div>"
      ],
      "text/plain": [
       "                   Date  Reading\n",
       "48  2012-03-13 16:00:00      NaN\n",
       "54  2012-03-21 16:00:00      NaN\n",
       "57  2012-03-26 16:00:00      NaN\n",
       "99  2012-05-24 16:00:00      NaN\n",
       "104 2012-06-01 16:00:00      NaN\n",
       "105 2012-06-04 16:00:00      NaN\n",
       "138 2012-07-20 16:00:00      NaN\n",
       "139 2012-07-23 16:00:00      NaN\n",
       "142 2012-07-26 16:00:00      NaN\n",
       "173 2012-09-10 16:00:00      NaN\n",
       "178 2012-09-17 16:00:00      NaN\n",
       "181 2012-09-20 16:00:00      NaN\n",
       "194 2012-10-09 16:00:00      NaN\n",
       "195 2012-10-10 16:00:00      NaN\n",
       "198 2012-10-15 16:00:00      NaN\n",
       "208 2012-10-31 16:00:00      NaN\n",
       "212 2012-11-06 16:00:00      NaN\n",
       "217 2012-11-13 16:00:00      NaN\n",
       "220 2012-11-16 16:00:00      NaN\n",
       "238 2012-12-13 16:00:00      NaN"
      ]
     },
     "execution_count": 159,
     "metadata": {},
     "output_type": "execute_result"
    }
   ],
   "source": [
    "missing_reading"
   ]
  },
  {
   "cell_type": "code",
   "execution_count": 160,
   "metadata": {},
   "outputs": [
    {
     "data": {
      "text/html": [
       "<div>\n",
       "<style scoped>\n",
       "    .dataframe tbody tr th:only-of-type {\n",
       "        vertical-align: middle;\n",
       "    }\n",
       "\n",
       "    .dataframe tbody tr th {\n",
       "        vertical-align: top;\n",
       "    }\n",
       "\n",
       "    .dataframe thead th {\n",
       "        text-align: right;\n",
       "    }\n",
       "</style>\n",
       "<table border=\"1\" class=\"dataframe\">\n",
       "  <thead>\n",
       "    <tr style=\"text-align: right;\">\n",
       "      <th></th>\n",
       "      <th>Reading</th>\n",
       "    </tr>\n",
       "    <tr>\n",
       "      <th>Date</th>\n",
       "      <th></th>\n",
       "    </tr>\n",
       "  </thead>\n",
       "  <tbody>\n",
       "    <tr>\n",
       "      <td>2012-01-03 16:00:00</td>\n",
       "      <td>26.960</td>\n",
       "    </tr>\n",
       "    <tr>\n",
       "      <td>2012-01-04 16:00:00</td>\n",
       "      <td>27.470</td>\n",
       "    </tr>\n",
       "    <tr>\n",
       "      <td>2012-01-05 16:00:00</td>\n",
       "      <td>27.728</td>\n",
       "    </tr>\n",
       "    <tr>\n",
       "      <td>2012-01-06 16:00:00</td>\n",
       "      <td>28.190</td>\n",
       "    </tr>\n",
       "    <tr>\n",
       "      <td>2012-01-09 16:00:00</td>\n",
       "      <td>28.100</td>\n",
       "    </tr>\n",
       "  </tbody>\n",
       "</table>\n",
       "</div>"
      ],
      "text/plain": [
       "                     Reading\n",
       "Date                        \n",
       "2012-01-03 16:00:00   26.960\n",
       "2012-01-04 16:00:00   27.470\n",
       "2012-01-05 16:00:00   27.728\n",
       "2012-01-06 16:00:00   28.190\n",
       "2012-01-09 16:00:00   28.100"
      ]
     },
     "execution_count": 160,
     "metadata": {},
     "output_type": "execute_result"
    }
   ],
   "source": [
    "df.Date = pd.to_datetime(df.Date, format='%d-%m-%Y')\n",
    "df = df.set_index('Date')\n",
    "df.head()"
   ]
  },
  {
   "cell_type": "code",
   "execution_count": 161,
   "metadata": {},
   "outputs": [],
   "source": [
    "df = df.assign(Reading=df.Reading.interpolate(method='time'))"
   ]
  },
  {
   "cell_type": "code",
   "execution_count": 162,
   "metadata": {},
   "outputs": [
    {
     "data": {
      "text/html": [
       "<div>\n",
       "<style scoped>\n",
       "    .dataframe tbody tr th:only-of-type {\n",
       "        vertical-align: middle;\n",
       "    }\n",
       "\n",
       "    .dataframe tbody tr th {\n",
       "        vertical-align: top;\n",
       "    }\n",
       "\n",
       "    .dataframe thead th {\n",
       "        text-align: right;\n",
       "    }\n",
       "</style>\n",
       "<table border=\"1\" class=\"dataframe\">\n",
       "  <thead>\n",
       "    <tr style=\"text-align: right;\">\n",
       "      <th></th>\n",
       "      <th>Reading</th>\n",
       "    </tr>\n",
       "    <tr>\n",
       "      <th>Date</th>\n",
       "      <th></th>\n",
       "    </tr>\n",
       "  </thead>\n",
       "  <tbody>\n",
       "    <tr>\n",
       "      <td>2012-01-03 16:00:00</td>\n",
       "      <td>26.960</td>\n",
       "    </tr>\n",
       "    <tr>\n",
       "      <td>2012-01-04 16:00:00</td>\n",
       "      <td>27.470</td>\n",
       "    </tr>\n",
       "    <tr>\n",
       "      <td>2012-01-05 16:00:00</td>\n",
       "      <td>27.728</td>\n",
       "    </tr>\n",
       "    <tr>\n",
       "      <td>2012-01-06 16:00:00</td>\n",
       "      <td>28.190</td>\n",
       "    </tr>\n",
       "    <tr>\n",
       "      <td>2012-01-09 16:00:00</td>\n",
       "      <td>28.100</td>\n",
       "    </tr>\n",
       "  </tbody>\n",
       "</table>\n",
       "</div>"
      ],
      "text/plain": [
       "                     Reading\n",
       "Date                        \n",
       "2012-01-03 16:00:00   26.960\n",
       "2012-01-04 16:00:00   27.470\n",
       "2012-01-05 16:00:00   27.728\n",
       "2012-01-06 16:00:00   28.190\n",
       "2012-01-09 16:00:00   28.100"
      ]
     },
     "execution_count": 162,
     "metadata": {},
     "output_type": "execute_result"
    }
   ],
   "source": [
    "df.head()"
   ]
  },
  {
   "cell_type": "code",
   "execution_count": 166,
   "metadata": {},
   "outputs": [
    {
     "data": {
      "text/plain": [
       "Reading    32.54\n",
       "Name: 2012-03-13 16:00:00, dtype: float64"
      ]
     },
     "execution_count": 166,
     "metadata": {},
     "output_type": "execute_result"
    }
   ],
   "source": [
    "df.iloc[48]"
   ]
  },
  {
   "cell_type": "code",
   "execution_count": 163,
   "metadata": {},
   "outputs": [
    {
     "data": {
      "text/html": [
       "<div>\n",
       "<style scoped>\n",
       "    .dataframe tbody tr th:only-of-type {\n",
       "        vertical-align: middle;\n",
       "    }\n",
       "\n",
       "    .dataframe tbody tr th {\n",
       "        vertical-align: top;\n",
       "    }\n",
       "\n",
       "    .dataframe thead th {\n",
       "        text-align: right;\n",
       "    }\n",
       "</style>\n",
       "<table border=\"1\" class=\"dataframe\">\n",
       "  <thead>\n",
       "    <tr style=\"text-align: right;\">\n",
       "      <th></th>\n",
       "      <th>Date</th>\n",
       "      <th>Reading</th>\n",
       "    </tr>\n",
       "  </thead>\n",
       "  <tbody>\n",
       "    <tr>\n",
       "      <td>48</td>\n",
       "      <td>2012-03-13 16:00:00</td>\n",
       "      <td>NaN</td>\n",
       "    </tr>\n",
       "    <tr>\n",
       "      <td>54</td>\n",
       "      <td>2012-03-21 16:00:00</td>\n",
       "      <td>NaN</td>\n",
       "    </tr>\n",
       "    <tr>\n",
       "      <td>57</td>\n",
       "      <td>2012-03-26 16:00:00</td>\n",
       "      <td>NaN</td>\n",
       "    </tr>\n",
       "    <tr>\n",
       "      <td>99</td>\n",
       "      <td>2012-05-24 16:00:00</td>\n",
       "      <td>NaN</td>\n",
       "    </tr>\n",
       "    <tr>\n",
       "      <td>104</td>\n",
       "      <td>2012-06-01 16:00:00</td>\n",
       "      <td>NaN</td>\n",
       "    </tr>\n",
       "    <tr>\n",
       "      <td>105</td>\n",
       "      <td>2012-06-04 16:00:00</td>\n",
       "      <td>NaN</td>\n",
       "    </tr>\n",
       "    <tr>\n",
       "      <td>138</td>\n",
       "      <td>2012-07-20 16:00:00</td>\n",
       "      <td>NaN</td>\n",
       "    </tr>\n",
       "    <tr>\n",
       "      <td>139</td>\n",
       "      <td>2012-07-23 16:00:00</td>\n",
       "      <td>NaN</td>\n",
       "    </tr>\n",
       "    <tr>\n",
       "      <td>142</td>\n",
       "      <td>2012-07-26 16:00:00</td>\n",
       "      <td>NaN</td>\n",
       "    </tr>\n",
       "    <tr>\n",
       "      <td>173</td>\n",
       "      <td>2012-09-10 16:00:00</td>\n",
       "      <td>NaN</td>\n",
       "    </tr>\n",
       "    <tr>\n",
       "      <td>178</td>\n",
       "      <td>2012-09-17 16:00:00</td>\n",
       "      <td>NaN</td>\n",
       "    </tr>\n",
       "    <tr>\n",
       "      <td>181</td>\n",
       "      <td>2012-09-20 16:00:00</td>\n",
       "      <td>NaN</td>\n",
       "    </tr>\n",
       "    <tr>\n",
       "      <td>194</td>\n",
       "      <td>2012-10-09 16:00:00</td>\n",
       "      <td>NaN</td>\n",
       "    </tr>\n",
       "    <tr>\n",
       "      <td>195</td>\n",
       "      <td>2012-10-10 16:00:00</td>\n",
       "      <td>NaN</td>\n",
       "    </tr>\n",
       "    <tr>\n",
       "      <td>198</td>\n",
       "      <td>2012-10-15 16:00:00</td>\n",
       "      <td>NaN</td>\n",
       "    </tr>\n",
       "    <tr>\n",
       "      <td>208</td>\n",
       "      <td>2012-10-31 16:00:00</td>\n",
       "      <td>NaN</td>\n",
       "    </tr>\n",
       "    <tr>\n",
       "      <td>212</td>\n",
       "      <td>2012-11-06 16:00:00</td>\n",
       "      <td>NaN</td>\n",
       "    </tr>\n",
       "    <tr>\n",
       "      <td>217</td>\n",
       "      <td>2012-11-13 16:00:00</td>\n",
       "      <td>NaN</td>\n",
       "    </tr>\n",
       "    <tr>\n",
       "      <td>220</td>\n",
       "      <td>2012-11-16 16:00:00</td>\n",
       "      <td>NaN</td>\n",
       "    </tr>\n",
       "    <tr>\n",
       "      <td>238</td>\n",
       "      <td>2012-12-13 16:00:00</td>\n",
       "      <td>NaN</td>\n",
       "    </tr>\n",
       "  </tbody>\n",
       "</table>\n",
       "</div>"
      ],
      "text/plain": [
       "                   Date  Reading\n",
       "48  2012-03-13 16:00:00      NaN\n",
       "54  2012-03-21 16:00:00      NaN\n",
       "57  2012-03-26 16:00:00      NaN\n",
       "99  2012-05-24 16:00:00      NaN\n",
       "104 2012-06-01 16:00:00      NaN\n",
       "105 2012-06-04 16:00:00      NaN\n",
       "138 2012-07-20 16:00:00      NaN\n",
       "139 2012-07-23 16:00:00      NaN\n",
       "142 2012-07-26 16:00:00      NaN\n",
       "173 2012-09-10 16:00:00      NaN\n",
       "178 2012-09-17 16:00:00      NaN\n",
       "181 2012-09-20 16:00:00      NaN\n",
       "194 2012-10-09 16:00:00      NaN\n",
       "195 2012-10-10 16:00:00      NaN\n",
       "198 2012-10-15 16:00:00      NaN\n",
       "208 2012-10-31 16:00:00      NaN\n",
       "212 2012-11-06 16:00:00      NaN\n",
       "217 2012-11-13 16:00:00      NaN\n",
       "220 2012-11-16 16:00:00      NaN\n",
       "238 2012-12-13 16:00:00      NaN"
      ]
     },
     "execution_count": 163,
     "metadata": {},
     "output_type": "execute_result"
    }
   ],
   "source": [
    "missing_reading"
   ]
  },
  {
   "cell_type": "code",
   "execution_count": 167,
   "metadata": {},
   "outputs": [
    {
     "data": {
      "text/html": [
       "<div>\n",
       "<style scoped>\n",
       "    .dataframe tbody tr th:only-of-type {\n",
       "        vertical-align: middle;\n",
       "    }\n",
       "\n",
       "    .dataframe tbody tr th {\n",
       "        vertical-align: top;\n",
       "    }\n",
       "\n",
       "    .dataframe thead th {\n",
       "        text-align: right;\n",
       "    }\n",
       "</style>\n",
       "<table border=\"1\" class=\"dataframe\">\n",
       "  <thead>\n",
       "    <tr style=\"text-align: right;\">\n",
       "      <th></th>\n",
       "      <th>Reading</th>\n",
       "    </tr>\n",
       "    <tr>\n",
       "      <th>Date</th>\n",
       "      <th></th>\n",
       "    </tr>\n",
       "  </thead>\n",
       "  <tbody>\n",
       "    <tr>\n",
       "      <td>2012-01-03 16:00:00</td>\n",
       "      <td>26.960</td>\n",
       "    </tr>\n",
       "    <tr>\n",
       "      <td>2012-01-04 16:00:00</td>\n",
       "      <td>27.470</td>\n",
       "    </tr>\n",
       "    <tr>\n",
       "      <td>2012-01-05 16:00:00</td>\n",
       "      <td>27.728</td>\n",
       "    </tr>\n",
       "    <tr>\n",
       "      <td>2012-01-06 16:00:00</td>\n",
       "      <td>28.190</td>\n",
       "    </tr>\n",
       "    <tr>\n",
       "      <td>2012-01-09 16:00:00</td>\n",
       "      <td>28.100</td>\n",
       "    </tr>\n",
       "  </tbody>\n",
       "</table>\n",
       "</div>"
      ],
      "text/plain": [
       "                     Reading\n",
       "Date                        \n",
       "2012-01-03 16:00:00   26.960\n",
       "2012-01-04 16:00:00   27.470\n",
       "2012-01-05 16:00:00   27.728\n",
       "2012-01-06 16:00:00   28.190\n",
       "2012-01-09 16:00:00   28.100"
      ]
     },
     "execution_count": 167,
     "metadata": {},
     "output_type": "execute_result"
    }
   ],
   "source": [
    "df.head()"
   ]
  },
  {
   "cell_type": "code",
   "execution_count": 177,
   "metadata": {},
   "outputs": [
    {
     "name": "stdout",
     "output_type": "stream",
     "text": [
      "32.540000000000006\n",
      "32.120000000000005\n",
      "32.5525\n",
      "29.38\n",
      "29.286\n",
      "28.884\n",
      "30.512\n",
      "29.648\n",
      "29.59\n",
      "30.95\n",
      "31.22\n",
      "31.4\n",
      "29.69666666666667\n",
      "29.473333333333333\n",
      "29.634999999999998\n",
      "29.356666666666666\n",
      "29.7825\n",
      "28.15\n",
      "26.9275\n",
      "27.375\n"
     ]
    }
   ],
   "source": [
    "for i in rows:\n",
    "    print(df.iloc[i].Reading)"
   ]
  },
  {
   "cell_type": "code",
   "execution_count": null,
   "metadata": {},
   "outputs": [],
   "source": []
  }
 ],
 "metadata": {
  "kernelspec": {
   "display_name": "Python 3",
   "language": "python",
   "name": "python3"
  },
  "language_info": {
   "codemirror_mode": {
    "name": "ipython",
    "version": 3
   },
   "file_extension": ".py",
   "mimetype": "text/x-python",
   "name": "python",
   "nbconvert_exporter": "python",
   "pygments_lexer": "ipython3",
   "version": "3.7.4"
  }
 },
 "nbformat": 4,
 "nbformat_minor": 2
}
